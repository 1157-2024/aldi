{
 "cells": [
  {
   "cell_type": "code",
   "execution_count": 1,
   "metadata": {},
   "outputs": [
    {
     "name": "stderr",
     "output_type": "stream",
     "text": [
      "/home/jkay/miniconda3/envs/doad-strong/lib/python3.9/site-packages/tqdm/auto.py:21: TqdmWarning: IProgress not found. Please update jupyter and ipywidgets. See https://ipywidgets.readthedocs.io/en/stable/user_install.html\n",
      "  from .autonotebook import tqdm as notebook_tqdm\n"
     ]
    }
   ],
   "source": [
    "import torch\n",
    "import glob\n"
   ]
  },
  {
   "cell_type": "code",
   "execution_count": 2,
   "metadata": {},
   "outputs": [],
   "source": [
    "model_path = '../models/*.pth'"
   ]
  },
  {
   "cell_type": "code",
   "execution_count": 3,
   "metadata": {},
   "outputs": [
    {
     "data": {
      "text/plain": [
       "'../models/*.pth'"
      ]
     },
     "execution_count": 3,
     "metadata": {},
     "output_type": "execute_result"
    }
   ],
   "source": [
    "model_path"
   ]
  },
  {
   "cell_type": "code",
   "execution_count": 6,
   "metadata": {},
   "outputs": [
    {
     "name": "stdout",
     "output_type": "stream",
     "text": [
      "../models/cityscapes_probabilistic_baseline_foggy_val_model_best_512.pth\n",
      "dict_keys(['model', 'trainer', 'iteration'])\n",
      "../models/sim10k_baseline_strongaug_ema_cityscapes_cars_val_model_best_768_ema2model.pth\n",
      "dict_keys(['model', 'trainer', 'iteration'])\n",
      "../models/sim10k_baseline_strongaug_ema_cityscapes_cars_val_model_best_768.pth\n",
      "dict_keys(['model', 'trainer', 'ema', 'iteration'])\n",
      "../models/sim10k_baseline_strongaug_ema_cityscapes_cars_val_model_best_768_ema2model.pth\n",
      "../models/sim10k_baseline_strongaug_ema_cityscapes_cars_val_model_best_762_ema2model.pth\n",
      "dict_keys(['model', 'trainer', 'iteration'])\n",
      "../models/cityscapes_swinb_adamw_baseline_foggy_val_model_best_563.pth\n",
      "dict_keys(['model', 'trainer', 'iteration'])\n",
      "../models/cityscapes_baseline_ema_foggy_val_model_best_554_ema2model.pth\n",
      "dict_keys(['model', 'trainer', 'iteration'])\n",
      "../models/cityscapes_baseline_strongaug_foggy_val_model_best_568.pth\n",
      "dict_keys(['model', 'trainer', 'iteration'])\n",
      "../models/cityscapes_baseline_strongaug_ema_foggy_val_model_best_591.pth\n",
      "dict_keys(['model', 'trainer', 'ema', 'iteration'])\n",
      "../models/cityscapes_baseline_strongaug_ema_foggy_val_model_best_591_ema2model.pth\n",
      "../models/cityscapes_baseline_strongaug_ema_foggy_val_model_best_591_ema2model.pth\n",
      "dict_keys(['model', 'trainer', 'iteration'])\n",
      "../models/cityscapes_swinb_baseline_foggy_val_model_best_579.pth\n",
      "dict_keys(['model', 'trainer', 'iteration'])\n",
      "../models/cfc_channel_test_model_best_strongaug_ema_667.pth\n",
      "dict_keys(['model', 'trainer', 'ema', 'iteration'])\n",
      "../models/cfc_channel_test_model_best_strongaug_ema_667_ema2model.pth\n",
      "../models/cityscapes_baseline_ema_foggy_val_model_best_554.pth\n",
      "dict_keys(['model', 'trainer', 'ema', 'iteration'])\n",
      "../models/cityscapes_baseline_ema_foggy_val_model_best_554_ema2model.pth\n",
      "../models/sim10k_baseline_strongaug_ema_cityscapes_cars_val_model_best_762.pth\n",
      "dict_keys(['model', 'trainer', 'ema', 'iteration'])\n",
      "../models/sim10k_baseline_strongaug_ema_cityscapes_cars_val_model_best_762_ema2model.pth\n",
      "../models/cityscapes_baseline_undertrained_485.pth\n",
      "dict_keys(['model', 'trainer', 'iteration'])\n",
      "../models/cityscapes_baseline_foggy_val_model_best_519.pth\n",
      "dict_keys(['model', 'trainer', 'iteration'])\n",
      "../models/cityscapes_baseline_imagenet_foggy_val_model_best.pth\n",
      "dict_keys(['model', 'trainer', 'iteration'])\n",
      "../models/cfc_channel_test_model_best_strongaug_ema_667_ema2model.pth\n",
      "dict_keys(['model', 'trainer', 'iteration'])\n"
     ]
    }
   ],
   "source": [
    "for mp in glob.glob(model_path):\n",
    "    print(mp)\n",
    "    m = torch.load(mp)\n",
    "    print(m.keys())\n",
    "    if \"ema\" in m.keys():\n",
    "        for k, v in m[\"ema\"].items():\n",
    "            m[\"model\"][k.replace(\"model.\", \"\")] = v\n",
    "        del m[\"ema\"]\n",
    "        out_path = mp.replace(\".pth\", \"_ema2model.pth\")\n",
    "        torch.save(m, out_path)\n",
    "        print(out_path)"
   ]
  },
  {
   "cell_type": "code",
   "execution_count": null,
   "metadata": {},
   "outputs": [],
   "source": []
  }
 ],
 "metadata": {
  "kernelspec": {
   "display_name": "doad-strong",
   "language": "python",
   "name": "python3"
  },
  "language_info": {
   "codemirror_mode": {
    "name": "ipython",
    "version": 3
   },
   "file_extension": ".py",
   "mimetype": "text/x-python",
   "name": "python",
   "nbconvert_exporter": "python",
   "pygments_lexer": "ipython3",
   "version": "3.9.16"
  }
 },
 "nbformat": 4,
 "nbformat_minor": 2
}
